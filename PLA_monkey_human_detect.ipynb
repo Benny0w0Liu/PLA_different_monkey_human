{
 "cells": [
  {
   "cell_type": "code",
   "execution_count": null,
   "metadata": {},
   "outputs": [],
   "source": [
    "# @title set environment\n",
    "from IPython.display import clear_output\n",
    "import numpy as np\n",
    "import matplotlib.pyplot as plt\n",
    "import matplotlib.animation as animation\n",
    "import cv2"
   ]
  },
  {
   "cell_type": "code",
   "execution_count": null,
   "metadata": {},
   "outputs": [],
   "source": [
    "# @title PLA algorithm\n",
    "def PLA_no_bias(X, y, number_of_generations ):\n",
    "    N,d = X.shape\n",
    "    normal = np.random.randn(d,)\n",
    "    \n",
    "    for _ in range(number_of_generations):\n",
    "        # find one wrong sample\n",
    "        for i in range(N):\n",
    "            if np.dot(X[i], normal) * y[i] <= 0:\n",
    "                normal += y[i] * X[i]\n",
    "                # print accuracy\n",
    "                if _ % 100 == 99:\n",
    "                    print(\"Iter %s: %s\"\n",
    "                            %(_+1, (np.sign(np.dot(X, normal)) == y).mean()))\n",
    "                break\n",
    "        else:\n",
    "            break\n",
    "\n",
    "    #print((np.sign(np.dot(X, normal)) == y).mean())\n",
    "    return normal\n",
    "\n",
    "def PLA_with_bias(X, y, number_of_generations):\n",
    "    N,d = X.shape\n",
    "    augX = np.hstack([np.ones((N,1)), X])\n",
    "    bias_normal = PLA_no_bias(augX, y, number_of_generations)\n",
    "    return bias_normal[0], bias_normal[1:]"
   ]
  },
  {
   "cell_type": "code",
   "execution_count": null,
   "metadata": {},
   "outputs": [],
   "source": [
    "# @title read dataset\n",
    "path = \"./Dataset/File_list.txt\"\n",
    "image_data=[]\n",
    "lable_data=[]\n",
    "with open(path) as f:\n",
    "    text=f.read()\n",
    "    list=text.split('\\n')\n",
    "for line in list:\n",
    "    img = cv2.imread(line, cv2.IMREAD_GRAYSCALE)\n",
    "    img=np.reshape(img, (1, 900))\n",
    "    \n",
    "    if((line[10]=='M')):\n",
    "        image_data.append(img[0])\n",
    "        lable_data.append(1)\n",
    "    if((line[10]=='H')):\n",
    "        image_data.append(img[0])\n",
    "        lable_data.append(-1)\n",
    "image_data=np.array(image_data)\n",
    "lable_data=np.array(lable_data)"
   ]
  },
  {
   "cell_type": "code",
   "execution_count": null,
   "metadata": {},
   "outputs": [],
   "source": [
    "# @title Generration aimation\n",
    "fig,imgplot= plt.subplots() \n",
    "def init():\n",
    "    bias,normal=PLA_with_bias(image_data, lable_data, 0)\n",
    "    weight=normal\n",
    "    weight=np.reshape(weight, (30, 30))\n",
    "    imgplot = plt.imshow(weight,cmap='gray')\n",
    "def run(data):\n",
    "    bias,normal=PLA_with_bias(image_data, lable_data, data)\n",
    "    weight=normal\n",
    "    weight=np.reshape(weight, (30, 30))\n",
    "    imgplot = plt.imshow(weight,cmap='gray')\n",
    "ani = animation.FuncAnimation(fig, run, frames=100, init_func=init) \n",
    "ani.save('generation_animation.gif', fps=5)   # 儲存為 gif\n",
    "plt.show()"
   ]
  },
  {
   "cell_type": "code",
   "execution_count": null,
   "metadata": {},
   "outputs": [],
   "source": [
    "# @title ditect setting\n",
    "number_of_generation=1000 # @param {type:\"number\"}\n",
    "bias,normal=PLA_with_bias(image_data, lable_data, number_of_generation)"
   ]
  },
  {
   "cell_type": "code",
   "execution_count": null,
   "metadata": {},
   "outputs": [],
   "source": [
    "# @title ditect the image\n",
    "User_path=\"Test.png\" # @param {type:\"string\"}\n",
    "img = cv2.imread(User_path, cv2.IMREAD_GRAYSCALE)\n",
    "imgplot = plt.imshow(img,cmap='gray')\n",
    "plt.show(imgplot)\n",
    "img = np.reshape(img,(1, 900))[0]\n",
    "if(np.dot(img,normal)-bias>0):\n",
    "    print(\"This is a picture of monkey\")\n",
    "else:\n",
    "    print(\"This is a picture of human\")"
   ]
  }
 ],
 "metadata": {
  "kernelspec": {
   "display_name": "base",
   "language": "python",
   "name": "python3"
  },
  "language_info": {
   "codemirror_mode": {
    "name": "ipython",
    "version": 3
   },
   "file_extension": ".py",
   "mimetype": "text/x-python",
   "name": "python",
   "nbconvert_exporter": "python",
   "pygments_lexer": "ipython3",
   "version": "3.11.5"
  }
 },
 "nbformat": 4,
 "nbformat_minor": 2
}
